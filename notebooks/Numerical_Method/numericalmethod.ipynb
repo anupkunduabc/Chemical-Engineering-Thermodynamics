{
  "cells": [
    {
      "cell_type": "markdown",
      "metadata": {
        "id": "view-in-github",
        "colab_type": "text"
      },
      "source": [
        "<a href=\"https://colab.research.google.com/github/anupkunduabc/Chemical-Engineering-Thermodynamics/blob/main/notebooks/Numerical_Method/numericalmethod.ipynb\" target=\"_parent\"><img src=\"https://colab.research.google.com/assets/colab-badge.svg\" alt=\"Open In Colab\"/></a>"
      ]
    },
    {
      "cell_type": "markdown",
      "metadata": {
        "id": "RibTuM-huE59"
      },
      "source": [
        "# 🔢 Numerical Methods for Chemical Engineering\n",
        "## Gauss-Seidel Iteration Example\n",
        "Solve the system of linear equations:\n",
        "\n",
        "\\begin{align*}\n",
        "3x + y - z &= 1 \\\\\n",
        "2x + 4y &= 2 \\\\\n",
        "-x + 2y + 5z &= 3\n",
        "\\end{align*}"
      ]
    },
    {
      "cell_type": "code",
      "execution_count": 1,
      "metadata": {
        "id": "lWEpzNteuE6A",
        "outputId": "e57dcf74-8202-4a09-cb51-9d5ed72fb57b",
        "colab": {
          "base_uri": "https://localhost:8080/"
        }
      },
      "outputs": [
        {
          "output_type": "stream",
          "name": "stdout",
          "text": [
            "Iteration 1: x=0.3333, y=0.3333, z=0.5333\n",
            "Iteration 2: x=0.4000, y=0.3000, z=0.5600\n",
            "Iteration 3: x=0.4200, y=0.2900, z=0.5680\n",
            "Iteration 4: x=0.4260, y=0.2870, z=0.5704\n",
            "Iteration 5: x=0.4278, y=0.2861, z=0.5711\n",
            "Iteration 6: x=0.4283, y=0.2858, z=0.5713\n",
            "Iteration 7: x=0.4285, y=0.2857, z=0.5714\n",
            "Iteration 8: x=0.4286, y=0.2857, z=0.5714\n",
            "Iteration 9: x=0.4286, y=0.2857, z=0.5714\n",
            "Iteration 10: x=0.4286, y=0.2857, z=0.5714\n"
          ]
        }
      ],
      "source": [
        "import numpy as np\n",
        "\n",
        "# Initial guess\n",
        "x = 0\n",
        "y = 0\n",
        "z = 0\n",
        "\n",
        "# Gauss-Seidel Iteration\n",
        "for i in range(1, 11):\n",
        "    x_new = (1 - y + z)/3\n",
        "    y_new = (2 - 2*x_new)/4\n",
        "    z_new = (3 + x_new - 2*y_new)/5\n",
        "    print(f\"Iteration {i}: x={x_new:.4f}, y={y_new:.4f}, z={z_new:.4f}\")\n",
        "    x, y, z = x_new, y_new, z_new"
      ]
    },
    {
      "cell_type": "markdown",
      "source": [
        "# Bisection Method"
      ],
      "metadata": {
        "id": "TLcb3MY5Rewe"
      }
    },
    {
      "cell_type": "code",
      "source": [
        "import time\n",
        "\n",
        "# Define the function\n",
        "def f(x):\n",
        "    return 2 * x**2 - 11 * x + 11\n",
        "\n",
        "# Start timer\n",
        "start_time = time.time()\n",
        "\n",
        "# Bisection Method Parameters\n",
        "tol = 0.0001\n",
        "a0 = 2\n",
        "b0 = 5\n",
        "\n",
        "# Check if initial guesses bracket a root\n",
        "if f(a0) * f(b0) < 0:\n",
        "    xr = a0\n",
        "    for i in range(1, 1001):\n",
        "        xrold = xr\n",
        "        xr = (a0 + b0) / 2\n",
        "        ea = f(xr)\n",
        "\n",
        "        if abs(ea) < tol:\n",
        "            print(\"Root of the equation:\")\n",
        "            print(f\"x = {xr:.6f}\")\n",
        "            print(\"Function value at root:\")\n",
        "            print(f\"f(x) = {f(xr):.6f}\")\n",
        "            print(\"Number of iterations:\")\n",
        "            print(i)\n",
        "            break\n",
        "\n",
        "        if f(a0) * f(xr) < 0:\n",
        "            b0 = xr\n",
        "        else:\n",
        "            a0 = xr\n",
        "else:\n",
        "    print(\"No root in this interval. Change the interval.\")\n",
        "\n",
        "# End timer\n",
        "timeElapsed_fixed = time.time() - start_time\n",
        "print(f\"Execution time: {timeElapsed_fixed:.6f} seconds\")\n"
      ],
      "metadata": {
        "id": "nZwVKBqPRaua",
        "outputId": "aead7083-a95e-42b3-a22b-62dd932360f0",
        "colab": {
          "base_uri": "https://localhost:8080/"
        }
      },
      "execution_count": 2,
      "outputs": [
        {
          "output_type": "stream",
          "name": "stdout",
          "text": [
            "Root of the equation:\n",
            "x = 4.186142\n",
            "Function value at root:\n",
            "f(x) = 0.000008\n",
            "Number of iterations:\n",
            "16\n",
            "Execution time: 0.004397 seconds\n"
          ]
        }
      ]
    }
  ],
  "metadata": {
    "kernelspec": {
      "display_name": "Python 3",
      "language": "python",
      "name": "python3"
    },
    "language_info": {
      "name": "python",
      "version": "3.x"
    },
    "colab": {
      "provenance": [],
      "include_colab_link": true
    }
  },
  "nbformat": 4,
  "nbformat_minor": 0
}